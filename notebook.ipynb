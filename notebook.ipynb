{
 "cells": [
  {
   "cell_type": "code",
   "execution_count": null,
   "id": "a2f6ba39",
   "metadata": {},
   "outputs": [],
   "source": [
    "# jupyter:\n",
    "#   jupytext:\n",
    "#     text_representation:\n",
    "#       extension: .py\n",
    "#       format_name: hydrogen\n",
    "#       format_version: '1.3'\n",
    "#       jupytext_version: 1.15.2\n",
    "#   kernelspec:\n",
    "#     display_name: Python 3 (ipykernel)\n",
    "#     language: python\n",
    "#     name: python3\n",
    "# ---"
   ]
  },
  {
   "cell_type": "code",
   "execution_count": 3,
   "id": "8a093f52-6cb5-4f55-9dde-53da6e56c41a",
   "metadata": {},
   "outputs": [
    {
     "name": "stdout",
     "output_type": "stream",
     "text": [
      "Using device: cuda\n"
     ]
    }
   ],
   "source": [
    "import torch\n",
    "\n",
    "device = torch.device(\"cuda\" if torch.cuda.is_available() else \"cpu\")\n",
    "print(\"Using device:\", device)"
   ]
  },
  {
   "cell_type": "code",
   "execution_count": 4,
   "id": "95fb7caf-4ea1-4929-ae2b-a33932b4c021",
   "metadata": {},
   "outputs": [],
   "source": [
    "block_size = 8 # length of input sequence - Tune based on VRAM and Model Performance Requirements\n",
    "batch_size = 10 # number of batches to run in parallel - Tune based on VRAM"
   ]
  },
  {
   "cell_type": "code",
   "execution_count": 5,
   "id": "2463eba7",
   "metadata": {},
   "outputs": [
    {
     "name": "stdout",
     "output_type": "stream",
     "text": [
      "block_size: 8\n",
      "batch_size: 10\n"
     ]
    }
   ],
   "source": [
    "print(\"block_size:\", block_size)\n",
    "print(\"batch_size:\", batch_size)"
   ]
  },
  {
   "cell_type": "code",
   "execution_count": null,
   "id": "0929b016-c317-429e-badf-1b38ecbc5c3e",
   "metadata": {},
   "outputs": [],
   "source": []
  }
 ],
 "metadata": {
  "kernelspec": {
   "display_name": "Python 3 (ipykernel)",
   "language": "python",
   "name": "python3"
  },
  "language_info": {
   "codemirror_mode": {
    "name": "ipython",
    "version": 3
   },
   "file_extension": ".py",
   "mimetype": "text/x-python",
   "name": "python",
   "nbconvert_exporter": "python",
   "pygments_lexer": "ipython3",
   "version": "3.11.6"
  }
 },
 "nbformat": 4,
 "nbformat_minor": 5
}
